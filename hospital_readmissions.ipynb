{
 "cells": [
  {
   "cell_type": "markdown",
   "id": "fdab17a5",
   "metadata": {},
   "source": [
    "## Import libraries\n"
   ]
  },
  {
   "cell_type": "code",
   "execution_count": null,
   "id": "4d2ed9df",
   "metadata": {},
   "outputs": [],
   "source": [
    "import pandas as pd     # for data manipulation and analysis\n",
    "import numpy as np      # for numerical computations\n",
    "import matplotlib.pyplot as plt   # for basic data visualization\n",
    "import seaborn as sns   # for statistical data visualization\n",
    "from ydata_profiling import ProfileReport\n"
   ]
  },
  {
   "cell_type": "markdown",
   "id": "e0901383",
   "metadata": {},
   "source": [
    "## EDA\n"
   ]
  },
  {
   "cell_type": "code",
   "execution_count": 173,
   "id": "3c7eb4f7",
   "metadata": {},
   "outputs": [
    {
     "name": "stderr",
     "output_type": "stream",
     "text": [
      "100%|██████████| 17/17 [00:01<00:00, 15.54it/s]1<00:00, 14.06it/s, Describe variable: readmitted]      \n",
      "Summarize dataset: 100%|██████████| 75/75 [00:19<00:00,  3.91it/s, Completed]                                 \n",
      "Generate report structure: 100%|██████████| 1/1 [00:09<00:00,  9.09s/it]\n",
      "Render HTML: 100%|██████████| 1/1 [00:04<00:00,  4.84s/it]\n",
      "Export report to file: 100%|██████████| 1/1 [00:00<00:00, 37.30it/s]\n"
     ]
    }
   ],
   "source": [
    "hospital = pd.read_csv(\"hospital_readmissions.csv\")\n",
    "profile = ProfileReport(hospital, title=\"Data Profiling Report\", explorative=True)\n",
    "\n",
    "profile.to_file(\"report.html\")"
   ]
  },
  {
   "cell_type": "code",
   "execution_count": 174,
   "id": "81d3d13e",
   "metadata": {},
   "outputs": [
    {
     "name": "stdout",
     "output_type": "stream",
     "text": [
      "['no' 'yes']\n",
      "['yes' 'no']\n",
      "['no' 'yes']\n"
     ]
    }
   ],
   "source": [
    "print(hospital[\"change\"].unique())\n",
    "print(hospital[\"diabetes_med\"].unique())\n",
    "print(hospital[\"readmitted\"].unique())\n"
   ]
  },
  {
   "cell_type": "markdown",
   "id": "bef5aa90",
   "metadata": {},
   "source": [
    "## Data Cleaning\n"
   ]
  },
  {
   "cell_type": "code",
   "execution_count": 175,
   "id": "71630dcc",
   "metadata": {},
   "outputs": [],
   "source": [
    "\n",
    "hospital['age_num'] = hospital['age'].str.extract(r'\\[(\\d+)-(\\d+)\\)').astype(int).mean(axis=1)\n"
   ]
  },
  {
   "cell_type": "code",
   "execution_count": 176,
   "id": "e2412a96",
   "metadata": {},
   "outputs": [],
   "source": [
    "hospital['n_emergency_log'] = np.log1p(hospital['n_emergency'])\n"
   ]
  },
  {
   "cell_type": "code",
   "execution_count": 177,
   "id": "991736ac",
   "metadata": {},
   "outputs": [
    {
     "data": {
      "text/plain": [
       "Index(['age', 'time_in_hospital', 'n_lab_procedures', 'n_procedures',\n",
       "       'n_medications', 'n_outpatient', 'n_inpatient', 'n_emergency',\n",
       "       'medical_specialty', 'diag_1', 'diag_2', 'diag_3', 'glucose_test',\n",
       "       'A1Ctest', 'change', 'diabetes_med', 'readmitted', 'age_num',\n",
       "       'n_emergency_log'],\n",
       "      dtype='object')"
      ]
     },
     "execution_count": 177,
     "metadata": {},
     "output_type": "execute_result"
    }
   ],
   "source": [
    "hospital.columns"
   ]
  },
  {
   "cell_type": "code",
   "execution_count": 178,
   "id": "802a718b",
   "metadata": {},
   "outputs": [
    {
     "name": "stderr",
     "output_type": "stream",
     "text": [
      "C:\\Users\\nerom\\AppData\\Local\\Temp\\ipykernel_14460\\28805754.py:1: FutureWarning: Downcasting behavior in `replace` is deprecated and will be removed in a future version. To retain the old behavior, explicitly call `result.infer_objects(copy=False)`. To opt-in to the future behavior, set `pd.set_option('future.no_silent_downcasting', True)`\n",
      "  hospital[\"age\"] = hospital[\"age\"].replace({\n"
     ]
    }
   ],
   "source": [
    "hospital[\"age\"] = hospital[\"age\"].replace({\n",
    "    \"[0-10)\": 5, \"[10-20)\": 15, \"[20-30)\": 25, \"[30-40)\": 35,\n",
    "    \"[40-50)\": 45, \"[50-60)\": 55, \"[60-70)\": 65, \"[70-80)\": 75,\n",
    "    \"[80-90)\": 85, \"[90-100)\": 95\n",
    "})\n"
   ]
  },
  {
   "cell_type": "code",
   "execution_count": 179,
   "id": "35d589ee",
   "metadata": {},
   "outputs": [
    {
     "name": "stdout",
     "output_type": "stream",
     "text": [
      "   change  diabetes_med  readmitted\n",
      "0       0             1           0\n",
      "1       0             1           0\n",
      "2       1             1           1\n",
      "3       1             1           1\n",
      "4       0             1           0\n",
      "5       0             0           1\n",
      "6       1             1           0\n",
      "7       0             1           1\n",
      "8       0             0           1\n",
      "9       1             1           0\n"
     ]
    }
   ],
   "source": [
    "# تحويل الأعمدة للبوليان بطريقة آمنة\n",
    "for col in [\"change\", \"diabetes_med\", \"readmitted\"]:\n",
    "    if col in hospital.columns:\n",
    "        # تحويل العمود لنصوص أولاً\n",
    "        hospital[col] = hospital[col].astype(str).str.strip().str.lower()\n",
    "        # استبدال yes/no بـ 1/0\n",
    "        hospital[col] = hospital[col].map({\"no\": 0, \"yes\": 1})\n",
    "\n",
    "# التأكد من الأعمدة بعد التحويل\n",
    "print(hospital[[\"change\", \"diabetes_med\", \"readmitted\"]].head(10))\n"
   ]
  },
  {
   "cell_type": "code",
   "execution_count": 180,
   "id": "b9e94d2c",
   "metadata": {},
   "outputs": [],
   "source": [
    "categorical_cols = [\"medical_specialty\", \"diag_1\", \"diag_2\", \"diag_3\", \"glucose_test\", \"A1Ctest\"]\n",
    "categorical_cols = [col for col in categorical_cols if col in hospital.columns]\n",
    "\n",
    "hospital = pd.get_dummies(hospital, columns=categorical_cols, drop_first=True)\n",
    "\n",
    "\n"
   ]
  },
  {
   "cell_type": "code",
   "execution_count": 181,
   "id": "83b42c45",
   "metadata": {},
   "outputs": [],
   "source": [
    "hospital.to_csv(\"cleaned_hospital_readmissions.csv\", index=False)   \n",
    "# Save the cleaned dataframe to a CSV file without the index column\n"
   ]
  },
  {
   "cell_type": "markdown",
   "id": "e178f8af",
   "metadata": {},
   "source": [
    "# preprocessing\n"
   ]
  },
  {
   "cell_type": "code",
   "execution_count": 182,
   "id": "c32e7638",
   "metadata": {},
   "outputs": [
    {
     "data": {
      "text/plain": [
       "Index(['age', 'time_in_hospital', 'n_lab_procedures', 'n_procedures',\n",
       "       'n_medications', 'n_outpatient', 'n_inpatient', 'n_emergency', 'change',\n",
       "       'diabetes_med', 'readmitted', 'age_num', 'n_emergency_log',\n",
       "       'medical_specialty_Emergency/Trauma',\n",
       "       'medical_specialty_Family/GeneralPractice',\n",
       "       'medical_specialty_InternalMedicine', 'medical_specialty_Missing',\n",
       "       'medical_specialty_Other', 'medical_specialty_Surgery',\n",
       "       'diag_1_Diabetes', 'diag_1_Digestive', 'diag_1_Injury',\n",
       "       'diag_1_Missing', 'diag_1_Musculoskeletal', 'diag_1_Other',\n",
       "       'diag_1_Respiratory', 'diag_2_Diabetes', 'diag_2_Digestive',\n",
       "       'diag_2_Injury', 'diag_2_Missing', 'diag_2_Musculoskeletal',\n",
       "       'diag_2_Other', 'diag_2_Respiratory', 'diag_3_Diabetes',\n",
       "       'diag_3_Digestive', 'diag_3_Injury', 'diag_3_Missing',\n",
       "       'diag_3_Musculoskeletal', 'diag_3_Other', 'diag_3_Respiratory',\n",
       "       'glucose_test_no', 'glucose_test_normal', 'A1Ctest_no',\n",
       "       'A1Ctest_normal'],\n",
       "      dtype='object')"
      ]
     },
     "execution_count": 182,
     "metadata": {},
     "output_type": "execute_result"
    }
   ],
   "source": [
    "hospital.columns"
   ]
  },
  {
   "cell_type": "code",
   "execution_count": 183,
   "id": "210c0823",
   "metadata": {},
   "outputs": [
    {
     "data": {
      "text/plain": [
       "age                                           int64\n",
       "time_in_hospital                              int64\n",
       "n_lab_procedures                              int64\n",
       "n_procedures                                  int64\n",
       "n_medications                                 int64\n",
       "n_outpatient                                  int64\n",
       "n_inpatient                                   int64\n",
       "n_emergency                                   int64\n",
       "change                                        int64\n",
       "diabetes_med                                  int64\n",
       "readmitted                                    int64\n",
       "age_num                                     float64\n",
       "n_emergency_log                             float64\n",
       "medical_specialty_Emergency/Trauma             bool\n",
       "medical_specialty_Family/GeneralPractice       bool\n",
       "medical_specialty_InternalMedicine             bool\n",
       "medical_specialty_Missing                      bool\n",
       "medical_specialty_Other                        bool\n",
       "medical_specialty_Surgery                      bool\n",
       "diag_1_Diabetes                                bool\n",
       "diag_1_Digestive                               bool\n",
       "diag_1_Injury                                  bool\n",
       "diag_1_Missing                                 bool\n",
       "diag_1_Musculoskeletal                         bool\n",
       "diag_1_Other                                   bool\n",
       "diag_1_Respiratory                             bool\n",
       "diag_2_Diabetes                                bool\n",
       "diag_2_Digestive                               bool\n",
       "diag_2_Injury                                  bool\n",
       "diag_2_Missing                                 bool\n",
       "diag_2_Musculoskeletal                         bool\n",
       "diag_2_Other                                   bool\n",
       "diag_2_Respiratory                             bool\n",
       "diag_3_Diabetes                                bool\n",
       "diag_3_Digestive                               bool\n",
       "diag_3_Injury                                  bool\n",
       "diag_3_Missing                                 bool\n",
       "diag_3_Musculoskeletal                         bool\n",
       "diag_3_Other                                   bool\n",
       "diag_3_Respiratory                             bool\n",
       "glucose_test_no                                bool\n",
       "glucose_test_normal                            bool\n",
       "A1Ctest_no                                     bool\n",
       "A1Ctest_normal                                 bool\n",
       "dtype: object"
      ]
     },
     "execution_count": 183,
     "metadata": {},
     "output_type": "execute_result"
    }
   ],
   "source": [
    "hospital.dtypes"
   ]
  },
  {
   "cell_type": "code",
   "execution_count": 184,
   "id": "93ce6053",
   "metadata": {},
   "outputs": [],
   "source": [
    "from sklearn.model_selection import train_test_split\n",
    "from sklearn.linear_model import LogisticRegression\n",
    "from sklearn.metrics import accuracy_score, confusion_matrix, classification_report\n"
   ]
  },
  {
   "cell_type": "code",
   "execution_count": 185,
   "id": "26872b4a",
   "metadata": {},
   "outputs": [],
   "source": [
    "\n",
    "X = hospital.drop(\"readmitted\", axis=1)\n",
    "y = hospital[\"readmitted\"]\n",
    "\n",
    "from sklearn.model_selection import train_test_split\n",
    "X_train, X_test, y_train, y_test = train_test_split(X, y, test_size=0.2, random_state=42)\n"
   ]
  },
  {
   "cell_type": "code",
   "execution_count": 186,
   "id": "18044358",
   "metadata": {},
   "outputs": [],
   "source": [
    "model = RandomForestClassifier(n_estimators=100, random_state=42, class_weight='balanced')\n"
   ]
  },
  {
   "cell_type": "markdown",
   "id": "286623ff",
   "metadata": {},
   "source": [
    "# Model Building\n"
   ]
  },
  {
   "cell_type": "code",
   "execution_count": 187,
   "id": "b6e1768c",
   "metadata": {},
   "outputs": [
    {
     "name": "stdout",
     "output_type": "stream",
     "text": [
      "Accuracy: 0.617\n",
      "Confusion Matrix:\n",
      " [[1807  851]\n",
      " [1064 1278]]\n",
      "Classification Report:\n",
      "               precision    recall  f1-score   support\n",
      "\n",
      "           0       0.63      0.68      0.65      2658\n",
      "           1       0.60      0.55      0.57      2342\n",
      "\n",
      "    accuracy                           0.62      5000\n",
      "   macro avg       0.61      0.61      0.61      5000\n",
      "weighted avg       0.62      0.62      0.62      5000\n",
      "\n",
      "              precision    recall  f1-score   support\n",
      "\n",
      "           0       0.63      0.68      0.65      2658\n",
      "           1       0.60      0.55      0.57      2342\n",
      "\n",
      "    accuracy                           0.62      5000\n",
      "   macro avg       0.61      0.61      0.61      5000\n",
      "weighted avg       0.62      0.62      0.62      5000\n",
      "\n"
     ]
    }
   ],
   "source": [
    "from sklearn.ensemble import RandomForestClassifier\n",
    "from sklearn.metrics import accuracy_score, confusion_matrix, classification_report\n",
    "\n",
    "# ======== 4. تدريب نموذج RandomForest ========\n",
    "rf_model = RandomForestClassifier(\n",
    "    n_estimators=200,\n",
    "    random_state=42,\n",
    "    class_weight='balanced',\n",
    "    max_depth=None,\n",
    "    min_samples_split=5,\n",
    "    min_samples_leaf=2\n",
    ")\n",
    "rf_model.fit(X_train, y_train)\n",
    "\n",
    "# ======== 5. التقييم ========\n",
    "y_pred = rf_model.predict(X_test)\n",
    "\n",
    "print(\"Accuracy:\", accuracy_score(y_test, y_pred))\n",
    "print(\"Confusion Matrix:\\n\", confusion_matrix(y_test, y_pred))\n",
    "print(\"Classification Report:\\n\", classification_report(y_test, y_pred))\n",
    "\n",
    "print(classification_report(y_test, y_pred))\n"
   ]
  },
  {
   "cell_type": "code",
   "execution_count": 190,
   "id": "23e66135",
   "metadata": {},
   "outputs": [
    {
     "name": "stdout",
     "output_type": "stream",
     "text": [
      "Requirement already satisfied: xgboost in c:\\users\\nerom\\appdata\\local\\packages\\pythonsoftwarefoundation.python.3.10_qbz5n2kfra8p0\\localcache\\local-packages\\python310\\site-packages (3.0.4)\n",
      "Requirement already satisfied: numpy in c:\\users\\nerom\\appdata\\local\\packages\\pythonsoftwarefoundation.python.3.10_qbz5n2kfra8p0\\localcache\\local-packages\\python310\\site-packages (from xgboost) (2.1.3)\n",
      "Requirement already satisfied: scipy in c:\\users\\nerom\\appdata\\local\\packages\\pythonsoftwarefoundation.python.3.10_qbz5n2kfra8p0\\localcache\\local-packages\\python310\\site-packages (from xgboost) (1.15.3)\n"
     ]
    },
    {
     "name": "stderr",
     "output_type": "stream",
     "text": [
      "\n",
      "[notice] A new release of pip is available: 23.0.1 -> 25.2\n",
      "[notice] To update, run: C:\\Users\\nerom\\AppData\\Local\\Microsoft\\WindowsApps\\PythonSoftwareFoundation.Python.3.10_qbz5n2kfra8p0\\python.exe -m pip install --upgrade pip\n"
     ]
    }
   ],
   "source": [
    "!C:\\Users\\nerom\\AppData\\Local\\Microsoft\\WindowsApps\\PythonSoftwareFoundation.Python.3.10_qbz5n2kfra8p0\\python.exe -m pip install xgboost\n"
   ]
  },
  {
   "cell_type": "code",
   "execution_count": 188,
   "id": "e75a2299",
   "metadata": {},
   "outputs": [
    {
     "name": "stderr",
     "output_type": "stream",
     "text": [
      "C:\\Users\\nerom\\AppData\\Local\\Packages\\PythonSoftwareFoundation.Python.3.10_qbz5n2kfra8p0\\LocalCache\\local-packages\\Python310\\site-packages\\xgboost\\training.py:183: UserWarning: [05:56:07] WARNING: C:\\actions-runner\\_work\\xgboost\\xgboost\\src\\learner.cc:738: \n",
      "Parameters: { \"use_label_encoder\" } are not used.\n",
      "\n",
      "  bst.update(dtrain, iteration=i, fobj=obj)\n"
     ]
    },
    {
     "name": "stdout",
     "output_type": "stream",
     "text": [
      "Accuracy: 0.61\n",
      "Confusion Matrix:\n",
      " [[1699  959]\n",
      " [ 989 1353]]\n",
      "Classification Report:\n",
      "               precision    recall  f1-score   support\n",
      "\n",
      "           0       0.63      0.64      0.64      2658\n",
      "           1       0.59      0.58      0.58      2342\n",
      "\n",
      "    accuracy                           0.61      5000\n",
      "   macro avg       0.61      0.61      0.61      5000\n",
      "weighted avg       0.61      0.61      0.61      5000\n",
      "\n"
     ]
    }
   ],
   "source": [
    "from sklearn.metrics import accuracy_score, confusion_matrix, classification_report\n",
    "import xgboost as xgb\n",
    "\n",
    "model = xgb.XGBClassifier(\n",
    "    n_estimators=500,\n",
    "    learning_rate=0.05,\n",
    "    max_depth=5,\n",
    "    subsample=0.8,\n",
    "    colsample_bytree=0.8,\n",
    "    scale_pos_weight=len(y[y==0]) / len(y[y==1]),  # التعامل مع imbalance\n",
    "    random_state=42,\n",
    "    use_label_encoder=False,\n",
    "    eval_metric='logloss'\n",
    ")\n",
    "\n",
    "model.fit(X_train, y_train)\n",
    "\n",
    "y_pred = model.predict(X_test)\n",
    "\n",
    "acc = accuracy_score(y_test, y_pred)\n",
    "cm = confusion_matrix(y_test, y_pred)\n",
    "cr = classification_report(y_test, y_pred)\n",
    "\n",
    "print(\"Accuracy:\", round(acc, 3))\n",
    "print(\"Confusion Matrix:\\n\", cm)\n",
    "print(\"Classification Report:\\n\", cr)\n"
   ]
  },
  {
   "cell_type": "code",
   "execution_count": 191,
   "id": "f5893f77",
   "metadata": {},
   "outputs": [
    {
     "name": "stdout",
     "output_type": "stream",
     "text": [
      "Accuracy: 0.6164\n",
      "Confusion Matrix:\n",
      " [[1865  793]\n",
      " [1125 1217]]\n",
      "Classification Report:\n",
      "               precision    recall  f1-score   support\n",
      "\n",
      "           0       0.62      0.70      0.66      2658\n",
      "           1       0.61      0.52      0.56      2342\n",
      "\n",
      "    accuracy                           0.62      5000\n",
      "   macro avg       0.61      0.61      0.61      5000\n",
      "weighted avg       0.62      0.62      0.61      5000\n",
      "\n"
     ]
    }
   ],
   "source": [
    "import xgboost as xgb\n",
    "from sklearn.metrics import accuracy_score, confusion_matrix, classification_report\n",
    "\n",
    "model = xgb.XGBClassifier(\n",
    "    n_estimators=1000,\n",
    "    learning_rate=0.03,\n",
    "    max_depth=5,\n",
    "    subsample=0.8,\n",
    "    colsample_bytree=0.8,\n",
    "    random_state=42,\n",
    "    eval_metric='logloss'\n",
    ")\n",
    "\n",
    "model.fit(X_train, y_train)\n",
    "y_pred = model.predict(X_test)\n",
    "\n",
    "print(\"Accuracy:\", accuracy_score(y_test, y_pred))\n",
    "print(\"Confusion Matrix:\\n\", confusion_matrix(y_test, y_pred))\n",
    "print(\"Classification Report:\\n\", classification_report(y_test, y_pred))\n"
   ]
  },
  {
   "cell_type": "code",
   "execution_count": 193,
   "id": "55d6ecfd",
   "metadata": {},
   "outputs": [
    {
     "name": "stdout",
     "output_type": "stream",
     "text": [
      "Fitting 3 folds for each of 50 candidates, totalling 150 fits\n"
     ]
    },
    {
     "name": "stderr",
     "output_type": "stream",
     "text": [
      "C:\\Users\\nerom\\AppData\\Local\\Packages\\PythonSoftwareFoundation.Python.3.10_qbz5n2kfra8p0\\LocalCache\\local-packages\\Python310\\site-packages\\xgboost\\training.py:183: UserWarning: [06:05:32] WARNING: C:\\actions-runner\\_work\\xgboost\\xgboost\\src\\learner.cc:738: \n",
      "Parameters: { \"use_label_encoder\" } are not used.\n",
      "\n",
      "  bst.update(dtrain, iteration=i, fobj=obj)\n"
     ]
    },
    {
     "name": "stdout",
     "output_type": "stream",
     "text": [
      "Best Parameters: {'subsample': 0.7, 'reg_lambda': 1, 'reg_alpha': 0.1, 'n_estimators': 1000, 'max_depth': 7, 'learning_rate': 0.01, 'gamma': 0.3, 'colsample_bytree': 0.9}\n",
      "Accuracy: 0.6192\n",
      "Confusion Matrix:\n",
      " [[1808  850]\n",
      " [1054 1288]]\n",
      "Classification Report:\n",
      "               precision    recall  f1-score   support\n",
      "\n",
      "           0       0.63      0.68      0.66      2658\n",
      "           1       0.60      0.55      0.57      2342\n",
      "\n",
      "    accuracy                           0.62      5000\n",
      "   macro avg       0.62      0.62      0.62      5000\n",
      "weighted avg       0.62      0.62      0.62      5000\n",
      "\n"
     ]
    }
   ],
   "source": [
    "import xgboost as xgb\n",
    "from sklearn.model_selection import train_test_split, RandomizedSearchCV\n",
    "from sklearn.metrics import accuracy_score, confusion_matrix, classification_report\n",
    "from imblearn.over_sampling import SMOTE  \n",
    "\n",
    "\n",
    "smote = SMOTE(random_state=42)\n",
    "X_train_res, y_train_res = smote.fit_resample(X_train, y_train)\n",
    "\n",
    "xgb_model = xgb.XGBClassifier(objective='binary:logistic', eval_metric='logloss', use_label_encoder=False, random_state=42)\n",
    "\n",
    "param_dist = {\n",
    "    'n_estimators': [300, 500, 700, 1000],\n",
    "    'max_depth': [3, 4, 5, 6, 7],\n",
    "    'learning_rate': [0.01, 0.03, 0.05, 0.1],\n",
    "    'subsample': [0.6, 0.7, 0.8, 0.9, 1],\n",
    "    'colsample_bytree': [0.6, 0.7, 0.8, 0.9, 1],\n",
    "    'gamma': [0, 0.1, 0.2, 0.3],\n",
    "    'reg_alpha': [0, 0.01, 0.1],\n",
    "    'reg_lambda': [1, 1.5, 2]\n",
    "}\n",
    "\n",
    "random_search = RandomizedSearchCV(\n",
    "    estimator=xgb_model,\n",
    "    param_distributions=param_dist,\n",
    "    n_iter=50, \n",
    "    scoring='accuracy',\n",
    "    cv=3,\n",
    "    verbose=2,\n",
    "    random_state=42,\n",
    "    n_jobs=-1\n",
    ")\n",
    "\n",
    "random_search.fit(X_train_res, y_train_res)\n",
    "\n",
    "print(\"Best Parameters:\", random_search.best_params_)\n",
    "\n",
    "y_pred = random_search.predict(X_test)\n",
    "print(\"Accuracy:\", accuracy_score(y_test, y_pred))\n",
    "print(\"Confusion Matrix:\\n\", confusion_matrix(y_test, y_pred))\n",
    "print(\"Classification Report:\\n\", classification_report(y_test, y_pred))\n"
   ]
  },
  {
   "cell_type": "code",
   "execution_count": 194,
   "id": "49b81f85",
   "metadata": {},
   "outputs": [],
   "source": [
    "import joblib\n",
    "\n",
    "joblib.dump(random_search.best_estimator_, \"xgb_model.pkl\")\n",
    "\n",
    "model_loaded = joblib.load(\"xgb_model.pkl\")\n"
   ]
  }
 ],
 "metadata": {
  "kernelspec": {
   "display_name": "Python 3",
   "language": "python",
   "name": "python3"
  },
  "language_info": {
   "codemirror_mode": {
    "name": "ipython",
    "version": 3
   },
   "file_extension": ".py",
   "mimetype": "text/x-python",
   "name": "python",
   "nbconvert_exporter": "python",
   "pygments_lexer": "ipython3",
   "version": "3.10.11"
  }
 },
 "nbformat": 4,
 "nbformat_minor": 5
}
